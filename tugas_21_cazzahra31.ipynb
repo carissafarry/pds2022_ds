{
 "cells": [
  {
   "cell_type": "markdown",
   "metadata": {},
   "source": [
    "Pada Tugas kali ini kita akan membuat 4 function yang memiliki fungsinya masing-masing.\n",
    "Data yang diambil berasal dari berkas imdb_movie_dumpfile.sql\n",
    "Silahkan import dumpfile tersebut dengan menggunakan terminal/cmd.\n",
    "\n",
    "Jika ada proses yang dilakukan boleh dilakukan dari query sql, atau menggunakan python setelah semua data ditampilkan menggunakan sql. "
   ]
  },
  {
   "cell_type": "code",
   "execution_count": 84,
   "metadata": {},
   "outputs": [],
   "source": [
    "#Taruh semua library/package dsini\n",
    "\n",
    "from mysql.connector import connect\n",
    "from dotenv import dotenv_values\n",
    "import pandas as pd\n",
    "import matplotlib.pyplot as plt\n",
    "import seaborn as sns\n"
   ]
  },
  {
   "cell_type": "code",
   "execution_count": 85,
   "metadata": {},
   "outputs": [
    {
     "name": "stdout",
     "output_type": "stream",
     "text": [
      "<mysql.connector.connection_cext.CMySQLConnection object at 0x000001F936BF9040>\n",
      "Database berhasil terkoneksi\n"
     ]
    }
   ],
   "source": [
    "#Pada sel ini peserta diminta untuk melakukan koneksi terhadap database.\n",
    "\n",
    "params = {\n",
    "    \"db\": dotenv_values(\"E:\\Projects\\python\\pds2022\\day29\\materi\\.env\")\n",
    "}\n",
    "\n",
    "db_user = params['db']['MYSQL_USERNAME']\n",
    "db_password = params['db']['MYSQL_PASSWORD']\n",
    "db_host = params['db']['MYSQL_HOST']\n",
    "db_port = params['db']['MYSQL_PORT']\n",
    "db_name = params['db']['MYSQL_DB']\n",
    "\n",
    "db = connect(\n",
    "    host=db_host,\n",
    "    user=db_user,\n",
    "    password=db_password,\n",
    "    database=db_name,\n",
    ")\n",
    "\n",
    "if db:\n",
    "    print(db)\n",
    "    print(\"Database berhasil terkoneksi\")\n"
   ]
  },
  {
   "cell_type": "markdown",
   "metadata": {},
   "source": [
    "1. Peserta diminta untuk membuat sebuah fungsi yang tugasnya adalah untuk menampilkan 5 direktur dengan jumlah film terbanyak dalam daftar. Data tersebut akan menampilkan secara terurut dari urutan 1 (paling banyak) ke 5."
   ]
  },
  {
   "cell_type": "code",
   "execution_count": 86,
   "metadata": {},
   "outputs": [
    {
     "name": "stdout",
     "output_type": "stream",
     "text": [
      "1. Steven Spielberg\n",
      "2. Woody Allen\n",
      "3. Martin Scorsese\n",
      "4. Clint Eastwood\n",
      "5. Ridley Scott\n",
      "> Data berhasil ditampilkan\n"
     ]
    }
   ],
   "source": [
    "def most_maker_director():\n",
    "    query = f'''\n",
    "        select director_name, count(director_name) as num_of_film\n",
    "        from movies\n",
    "        group by director_name\n",
    "        order by num_of_film desc\n",
    "        limit 5;\n",
    "    '''\n",
    "    cursor_db = db.cursor()\n",
    "    cursor_db.execute(query)\n",
    "    records = cursor_db.fetchall()\n",
    "    num = 0\n",
    "    for row in records:\n",
    "        num+=1\n",
    "        print(f\"{num}. {row[0]}\")\n",
    "\n",
    "try:\n",
    "    most_maker_director()\n",
    "    print(\"> Data berhasil ditampilkan\")\n",
    "except Exception as e:\n",
    "    print(f\"> Data gagal ditampilkan: {e}\")"
   ]
  },
  {
   "cell_type": "markdown",
   "metadata": {},
   "source": [
    "2. Peserta diminta untuk membuat sebuah fungsi yang tugasnya adalah untuk menampilkan 10 direktur dengan total jumlah pendapatan terbesar untuk semua film yang dia buat. Data tersebut akan menampilkan secara terurut dari urutan 1 (paling banyak) ke 10 beserta total pendapatan dari masing-masing direktur.\n",
    "\n",
    "Pendapatan bisa didapatkan dari nilai gross"
   ]
  },
  {
   "cell_type": "code",
   "execution_count": 87,
   "metadata": {},
   "outputs": [
    {
     "name": "stdout",
     "output_type": "stream",
     "text": [
      "1. Steven Spielberg - 4,114,233,101.00\n",
      "2. Peter Jackson - 2,592,969,279.00\n",
      "3. Michael Bay - 2,231,242,537.00\n",
      "4. Tim Burton - 2,071,275,480.00\n",
      "5. Sam Raimi - 2,049,549,198.00\n",
      "6. James Cameron - 1,948,125,910.00\n",
      "7. Christopher Nolan - 1,813,227,576.00\n",
      "8. George Lucas - 1,741,418,480.00\n",
      "9. Joss Whedon - 1,730,886,628.00\n",
      "10. Robert Zemeckis - 1,619,309,108.00\n",
      "> Data berhasil ditampilkan\n"
     ]
    }
   ],
   "source": [
    "def most_profitable_director():\n",
    "    query = f'''\n",
    "        select director_name, sum(gross) as total_gross\n",
    "        from movies\n",
    "        group by director_name\n",
    "        order by total_gross desc\n",
    "        limit 10;\n",
    "    '''\n",
    "    cursor_db = db.cursor()\n",
    "    cursor_db.execute(query)\n",
    "    records = cursor_db.fetchall()\n",
    "    num = 0\n",
    "    for row in records:\n",
    "        num += 1\n",
    "        print(f\"{num}. {row[0]} - {row[1]:,.2f}\")\n",
    "\n",
    "try:\n",
    "    most_profitable_director()\n",
    "    print(\"> Data berhasil ditampilkan\")\n",
    "except Exception as e:\n",
    "    print(f\"> Data gagal ditampilkan: {e}\")"
   ]
  },
  {
   "cell_type": "markdown",
   "metadata": {},
   "source": [
    "3. Peserta diminta untuk membuat sebuah fungsi yang tugasnya adalah untuk menampilkan 15 film dengan pendapatan terbesar. Data tersebut akan menampilkan secara terurut dari urutan 1 (paling banyak) ke 15 beserta pendapatan dari masing-masing film"
   ]
  },
  {
   "cell_type": "code",
   "execution_count": 88,
   "metadata": {},
   "outputs": [
    {
     "name": "stdout",
     "output_type": "stream",
     "text": [
      "1. Avatar  (2009) - 760,505,847.00\n",
      "2. Titanic  (1997) - 658,672,302.00\n",
      "3. Jurassic World  (2015) - 652,177,271.00\n",
      "4. The Avengers  (2012) - 623,279,547.00\n",
      "5. The Dark Knight  (2008) - 533,316,061.00\n",
      "6. Star Wars: Episode I - The Phantom Menace  (1999) - 474,544,677.00\n",
      "7. Star Wars: Episode IV - A New Hope  (1977) - 460,935,665.00\n",
      "8. Avengers: Age of Ultron  (2015) - 458,991,599.00\n",
      "9. The Dark Knight Rises  (2012) - 448,130,642.00\n",
      "10. Shrek 2  (2004) - 436,471,036.00\n",
      "11. E.T. the Extra-Terrestrial  (1982) - 434,949,459.00\n",
      "12. The Hunger Games: Catching Fire  (2013) - 424,645,577.00\n",
      "13. Pirates of the Caribbean: Dead Man's Chest  (2006) - 423,032,628.00\n",
      "14. The Lion King  (1994) - 422,783,777.00\n",
      "15. Toy Story 3  (2010) - 414,984,497.00\n",
      "> Data berhasil ditampilkan\n"
     ]
    }
   ],
   "source": [
    "def most_profitable_movie():\n",
    "    query = f'''\n",
    "        select movie_title, title_year, gross\n",
    "        from movies\n",
    "        group by movie_title\n",
    "        order by gross desc\n",
    "        limit 15;\n",
    "    '''\n",
    "    cursor_db = db.cursor()\n",
    "    cursor_db.execute(query)\n",
    "    records = cursor_db.fetchall()\n",
    "    num = 0\n",
    "    for row in records:\n",
    "        num += 1\n",
    "        print(f\"{num}. {row[0]} ({int(row[1])}) - {row[2]:,.2f}\")\n",
    "\n",
    "try:\n",
    "    most_profitable_movie()\n",
    "    print(\"> Data berhasil ditampilkan\")\n",
    "except Exception as e:\n",
    "    print(f\"> Data gagal ditampilkan: {e}\")"
   ]
  },
  {
   "cell_type": "markdown",
   "metadata": {},
   "source": [
    "4. Peserta diminta untuk membuat sebuah fungsi yang tugasnya adalah untuk menampilkan plot distribusi budget dari semua film pada tahun yang ditentukan. fungsi ini memiliki input, yaitu adalah tahun."
   ]
  },
  {
   "cell_type": "code",
   "execution_count": 89,
   "metadata": {},
   "outputs": [
    {
     "data": {
      "image/png": "[encoded data removed]",
      "text/plain": [
       "<Figure size 360x360 with 1 Axes>"
      ]
     },
     "metadata": {},
     "output_type": "display_data"
    },
    {
     "name": "stdout",
     "output_type": "stream",
     "text": [
      "> Grafik berhasil ditampilkan\n"
     ]
    }
   ],
   "source": [
    "# select budget, count(budget) as count\n",
    "def budget_distribution(year):\n",
    "    query = f'''\n",
    "        select budget, count(budget) as count\n",
    "        from movies\n",
    "        where title_year = {year}\n",
    "        group by budget;\n",
    "    '''\n",
    "    cursor_db = db.cursor()\n",
    "    cursor_db.execute(query)\n",
    "    records = cursor_db.fetchall()\n",
    "    df = pd.DataFrame(records, columns=['budget', 'count'])\n",
    "\n",
    "    with sns.axes_style(\"white\"):\n",
    "        plt.style.use('seaborn-deep')\n",
    "        g = sns.displot(data=df, x=\"budget\", kde=True, color='b', edgecolor=\"black\")\n",
    "        g.despine(top=False, right=False)\n",
    "        plt.title(f'Budget movie year {year}')\n",
    "        plt.ylabel('count')\n",
    "        plt.show()\n",
    "\n",
    "try:\n",
    "    budget_distribution(2001)\n",
    "    print(\"> Grafik berhasil ditampilkan\")\n",
    "except Exception as e:\n",
    "    print(f\"> Grafik gagal ditampilkan: {e}\")"
   ]
  },
  {
   "cell_type": "markdown",
   "metadata": {},
   "source": [
    "Semua sel di bawah digunakan untuk pemanggilan fungsi dan menunjukan hasil yang diharapkan."
   ]
  },
  {
   "cell_type": "code",
   "execution_count": 90,
   "metadata": {},
   "outputs": [
    {
     "name": "stdout",
     "output_type": "stream",
     "text": [
      "1. Steven Spielberg\n",
      "2. Woody Allen\n",
      "3. Martin Scorsese\n",
      "4. Clint Eastwood\n",
      "5. Ridley Scott\n"
     ]
    }
   ],
   "source": [
    "most_maker_director()"
   ]
  },
  {
   "cell_type": "code",
   "execution_count": 91,
   "metadata": {},
   "outputs": [
    {
     "name": "stdout",
     "output_type": "stream",
     "text": [
      "1. Steven Spielberg - 4,114,233,101.00\n",
      "2. Peter Jackson - 2,592,969,279.00\n",
      "3. Michael Bay - 2,231,242,537.00\n",
      "4. Tim Burton - 2,071,275,480.00\n",
      "5. Sam Raimi - 2,049,549,198.00\n",
      "6. James Cameron - 1,948,125,910.00\n",
      "7. Christopher Nolan - 1,813,227,576.00\n",
      "8. George Lucas - 1,741,418,480.00\n",
      "9. Joss Whedon - 1,730,886,628.00\n",
      "10. Robert Zemeckis - 1,619,309,108.00\n"
     ]
    }
   ],
   "source": [
    "most_profitable_director()"
   ]
  },
  {
   "cell_type": "code",
   "execution_count": 92,
   "metadata": {},
   "outputs": [
    {
     "name": "stdout",
     "output_type": "stream",
     "text": [
      "1. Avatar  (2009) - 760,505,847.00\n",
      "2. Titanic  (1997) - 658,672,302.00\n",
      "3. Jurassic World  (2015) - 652,177,271.00\n",
      "4. The Avengers  (2012) - 623,279,547.00\n",
      "5. The Dark Knight  (2008) - 533,316,061.00\n",
      "6. Star Wars: Episode I - The Phantom Menace  (1999) - 474,544,677.00\n",
      "7. Star Wars: Episode IV - A New Hope  (1977) - 460,935,665.00\n",
      "8. Avengers: Age of Ultron  (2015) - 458,991,599.00\n",
      "9. The Dark Knight Rises  (2012) - 448,130,642.00\n",
      "10. Shrek 2  (2004) - 436,471,036.00\n",
      "11. E.T. the Extra-Terrestrial  (1982) - 434,949,459.00\n",
      "12. The Hunger Games: Catching Fire  (2013) - 424,645,577.00\n",
      "13. Pirates of the Caribbean: Dead Man's Chest  (2006) - 423,032,628.00\n",
      "14. The Lion King  (1994) - 422,783,777.00\n",
      "15. Toy Story 3  (2010) - 414,984,497.00\n"
     ]
    }
   ],
   "source": [
    "most_profitable_movie()"
   ]
  },
  {
   "cell_type": "code",
   "execution_count": 93,
   "metadata": {},
   "outputs": [
    {
     "data": {
      "image/png": "[encoded data removed]",
      "text/plain": [
       "<Figure size 360x360 with 1 Axes>"
      ]
     },
     "metadata": {},
     "output_type": "display_data"
    }
   ],
   "source": [
    "year = 2001\n",
    "budget_distribution(2001)\n"
   ]
  }
 ],
 "metadata": {
  "interpreter": {
   "hash": "b02d93efda564da1915d42b0288c26f05ac833e7645184a564f32e638d57cc3e"
  },
  "kernelspec": {
   "display_name": "Python 3.8.6 64-bit ('public_op': virtualenv)",
   "language": "python",
   "name": "python3"
  },
  "language_info": {
   "codemirror_mode": {
    "name": "ipython",
    "version": 3
   },
   "file_extension": ".py",
   "mimetype": "text/x-python",
   "name": "python",
   "nbconvert_exporter": "python",
   "pygments_lexer": "ipython3",
   "version": "3.9.6"
  },
  "orig_nbformat": 4
 },
 "nbformat": 4,
 "nbformat_minor": 2
}
